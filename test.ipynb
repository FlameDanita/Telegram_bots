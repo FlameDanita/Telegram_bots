{
  "cells": [
    {
      "cell_type": "code",
      "execution_count": 4,
      "metadata": {
        "colab": {
          "base_uri": "https://localhost:8080/",
          "height": 333
        },
        "id": "3xLcKYbpV5Du",
        "outputId": "1b388209-7624-4609-a619-70ff62a29870"
      },
      "outputs": [
        {
          "ename": "ModuleNotFoundError",
          "evalue": "No module named 'API'",
          "output_type": "error",
          "traceback": [
            "\u001b[0;31m---------------------------------------------------------------------------\u001b[0m",
            "\u001b[0;31mModuleNotFoundError\u001b[0m                       Traceback (most recent call last)",
            "Cell \u001b[0;32mIn[4], line 1\u001b[0m\n\u001b[0;32m----> 1\u001b[0m \u001b[39mimport\u001b[39;00m \u001b[39mTg_bot_Esika\u001b[39;00m \u001b[39mas\u001b[39;00m \u001b[39mEsika\u001b[39;00m\n\u001b[1;32m      2\u001b[0m Esika\u001b[39m.\u001b[39mfobos_pc()\n\u001b[1;32m      3\u001b[0m \u001b[39mprint\u001b[39m(\u001b[39m'\u001b[39m\u001b[39mcolaboratory!\u001b[39m\u001b[39m'\u001b[39m)\n",
            "File \u001b[0;32m~/Documents/GitHub/Telegram_bots/Tg_bot_Esika.py:3\u001b[0m\n\u001b[1;32m      1\u001b[0m \u001b[39mimport\u001b[39;00m \u001b[39mtime\u001b[39;00m\u001b[39m,\u001b[39m \u001b[39mthreading\u001b[39;00m\u001b[39m,\u001b[39m \u001b[39mschedule\u001b[39;00m\n\u001b[1;32m      2\u001b[0m \u001b[39mimport\u001b[39;00m \u001b[39mtelebot\u001b[39;00m \u001b[39m#pip install pyTelegramBotAPI\u001b[39;00m\n\u001b[0;32m----> 3\u001b[0m \u001b[39mimport\u001b[39;00m \u001b[39mAPI\u001b[39;00m\n\u001b[1;32m      4\u001b[0m \u001b[39mimport\u001b[39;00m \u001b[39memoji\u001b[39;00m\n\u001b[1;32m      6\u001b[0m chat_ids \u001b[39m=\u001b[39m {\u001b[39m\"\u001b[39m\u001b[39mDanita\u001b[39m\u001b[39m\"\u001b[39m : \u001b[39m692791213\u001b[39m,\n\u001b[1;32m      7\u001b[0m             \u001b[39m\"\u001b[39m\u001b[39mFlameDarya\u001b[39m\u001b[39m\"\u001b[39m : \u001b[39m539280636\u001b[39m,\n\u001b[1;32m      8\u001b[0m             \u001b[39m\"\u001b[39m\u001b[39mFobos\u001b[39m\u001b[39m\"\u001b[39m : \u001b[39m809542339\u001b[39m} \n",
            "\u001b[0;31mModuleNotFoundError\u001b[0m: No module named 'API'"
          ]
        }
      ],
      "source": [
        "import Tg_bot_Esika as Esika\n",
        "Esika.fobos_pc()\n",
        "print('colaboratory!')"
      ]
    },
    {
      "cell_type": "code",
      "execution_count": 3,
      "metadata": {},
      "outputs": [
        {
          "name": "stdout",
          "output_type": "stream",
          "text": [
            "Collecting telebot\n",
            "  Downloading telebot-0.0.5-py3-none-any.whl (4.8 kB)\n",
            "Collecting pyTelegramBotAPI (from telebot)\n",
            "  Downloading pyTelegramBotAPI-4.13.0.tar.gz (232 kB)\n",
            "\u001b[2K     \u001b[90m━━━━━━━━━━━━━━━━━━━━━━━━━━━━━━━━━━━━━━━\u001b[0m \u001b[32m232.8/232.8 kB\u001b[0m \u001b[31m3.6 MB/s\u001b[0m eta \u001b[36m0:00:00\u001b[0ma \u001b[36m0:00:01\u001b[0m\n",
            "\u001b[?25h  Preparing metadata (setup.py) ... \u001b[?25ldone\n",
            "\u001b[?25hRequirement already satisfied: requests in /Library/Frameworks/Python.framework/Versions/3.11/lib/python3.11/site-packages (from telebot) (2.28.2)\n",
            "Requirement already satisfied: charset-normalizer<4,>=2 in /Library/Frameworks/Python.framework/Versions/3.11/lib/python3.11/site-packages (from requests->telebot) (3.1.0)\n",
            "Requirement already satisfied: idna<4,>=2.5 in /Users/danita/Library/Python/3.11/lib/python/site-packages (from requests->telebot) (3.4)\n",
            "Requirement already satisfied: urllib3<1.27,>=1.21.1 in /Library/Frameworks/Python.framework/Versions/3.11/lib/python3.11/site-packages (from requests->telebot) (1.26.15)\n",
            "Requirement already satisfied: certifi>=2017.4.17 in /Library/Frameworks/Python.framework/Versions/3.11/lib/python3.11/site-packages (from requests->telebot) (2022.12.7)\n",
            "Building wheels for collected packages: pyTelegramBotAPI\n",
            "  Building wheel for pyTelegramBotAPI (setup.py) ... \u001b[?25ldone\n",
            "\u001b[?25h  Created wheel for pyTelegramBotAPI: filename=pyTelegramBotAPI-4.13.0-py3-none-any.whl size=214532 sha256=9325de1ab6c680614289ad0694ac32425fceef68a9372df1be2f25efd204944c\n",
            "  Stored in directory: /Users/danita/Library/Caches/pip/wheels/cd/b7/77/f583f74801e9b9d09917ac87c87dde50ef6f78226eb3a5e25a\n",
            "Successfully built pyTelegramBotAPI\n",
            "Installing collected packages: pyTelegramBotAPI, telebot\n",
            "Successfully installed pyTelegramBotAPI-4.13.0 telebot-0.0.5\n",
            "\n",
            "\u001b[1m[\u001b[0m\u001b[34;49mnotice\u001b[0m\u001b[1;39;49m]\u001b[0m\u001b[39;49m A new release of pip is available: \u001b[0m\u001b[31;49m23.1.2\u001b[0m\u001b[39;49m -> \u001b[0m\u001b[32;49m23.2.1\u001b[0m\n",
            "\u001b[1m[\u001b[0m\u001b[34;49mnotice\u001b[0m\u001b[1;39;49m]\u001b[0m\u001b[39;49m To update, run: \u001b[0m\u001b[32;49mpip3 install --upgrade pip\u001b[0m\n",
            "Note: you may need to restart the kernel to use updated packages.\n"
          ]
        }
      ],
      "source": [
        "pip install telebot"
      ]
    },
    {
      "cell_type": "code",
      "execution_count": null,
      "metadata": {
        "id": "6kpYpw-qV5D4",
        "outputId": "c30cb53a-fb6b-458d-d034-a4238ada182b"
      },
      "outputs": [
        {
          "name": "stderr",
          "output_type": "stream",
          "text": [
            "2022-06-23 00:03:04,121 (__init__.py:579 MainThread) ERROR - TeleBot: \"Infinity polling: polling exited\"\n",
            "2022-06-23 00:03:04,122 (__init__.py:581 MainThread) ERROR - TeleBot: \"Break infinity polling\"\n"
          ]
        }
      ],
      "source": [
        "import Tg_bot_Esika as Esika\n",
        "Esika.fobos_laptop()"
      ]
    },
    {
      "cell_type": "code",
      "execution_count": null,
      "metadata": {
        "id": "0JBlZHiRV5D5",
        "outputId": "8ecd61f0-f813-49ca-e880-aeb3d796de3b"
      },
      "outputs": [
        {
          "name": "stderr",
          "output_type": "stream",
          "text": [
            "2022-06-23 00:03:14,338 (__init__.py:579 MainThread) ERROR - TeleBot: \"Infinity polling: polling exited\"\n",
            "2022-06-23 00:03:14,339 (__init__.py:581 MainThread) ERROR - TeleBot: \"Break infinity polling\"\n"
          ]
        }
      ],
      "source": [
        "import Tg_bot_Esika as Esika\n",
        "Esika.fobos_laptop()"
      ]
    },
    {
      "cell_type": "code",
      "execution_count": null,
      "metadata": {
        "id": "3zx9V--4V5D7"
      },
      "outputs": [],
      "source": []
    }
  ],
  "metadata": {
    "colab": {
      "provenance": []
    },
    "kernelspec": {
      "display_name": "Python 3.10.5 64-bit",
      "language": "python",
      "name": "python3"
    },
    "language_info": {
      "codemirror_mode": {
        "name": "ipython",
        "version": 3
      },
      "file_extension": ".py",
      "mimetype": "text/x-python",
      "name": "python",
      "nbconvert_exporter": "python",
      "pygments_lexer": "ipython3",
      "version": "3.11.2"
    },
    "orig_nbformat": 4,
    "vscode": {
      "interpreter": {
        "hash": "df3017dee9db3bd863778624db07b417f16e9b9edb7134a2aae625b280bf7fd0"
      }
    }
  },
  "nbformat": 4,
  "nbformat_minor": 0
}
