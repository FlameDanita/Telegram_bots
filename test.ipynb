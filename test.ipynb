{
 "cells": [
  {
   "cell_type": "code",
   "execution_count": 3,
   "metadata": {},
   "outputs": [
    {
     "name": "stderr",
     "output_type": "stream",
     "text": [
      "2022-06-23 00:02:56,640 (__init__.py:579 MainThread) ERROR - TeleBot: \"Infinity polling: polling exited\"\n",
      "2022-06-23 00:02:56,640 (__init__.py:581 MainThread) ERROR - TeleBot: \"Break infinity polling\"\n"
     ]
    }
   ],
   "source": [
    "import Tg_bot_Esika as Esika\n",
    "Esika.fobos_pc()"
   ]
  },
  {
   "cell_type": "code",
   "execution_count": 4,
   "metadata": {},
   "outputs": [
    {
     "name": "stderr",
     "output_type": "stream",
     "text": [
      "2022-06-23 00:03:04,121 (__init__.py:579 MainThread) ERROR - TeleBot: \"Infinity polling: polling exited\"\n",
      "2022-06-23 00:03:04,122 (__init__.py:581 MainThread) ERROR - TeleBot: \"Break infinity polling\"\n"
     ]
    }
   ],
   "source": [
    "import Tg_bot_Esika as Esika\n",
    "Esika.fobos_laptop()"
   ]
  },
  {
   "cell_type": "code",
   "execution_count": 5,
   "metadata": {},
   "outputs": [
    {
     "name": "stderr",
     "output_type": "stream",
     "text": [
      "2022-06-23 00:03:14,338 (__init__.py:579 MainThread) ERROR - TeleBot: \"Infinity polling: polling exited\"\n",
      "2022-06-23 00:03:14,339 (__init__.py:581 MainThread) ERROR - TeleBot: \"Break infinity polling\"\n"
     ]
    }
   ],
   "source": [
    "import Tg_bot_Esika as Esika\n",
    "Esika.fobos_laptop()"
   ]
  },
  {
   "cell_type": "code",
   "execution_count": null,
   "metadata": {},
   "outputs": [],
   "source": []
  }
 ],
 "metadata": {
  "kernelspec": {
   "display_name": "Python 3.10.5 64-bit",
   "language": "python",
   "name": "python3"
  },
  "language_info": {
   "codemirror_mode": {
    "name": "ipython",
    "version": 3
   },
   "file_extension": ".py",
   "mimetype": "text/x-python",
   "name": "python",
   "nbconvert_exporter": "python",
   "pygments_lexer": "ipython3",
   "version": "3.10.5"
  },
  "orig_nbformat": 4,
  "vscode": {
   "interpreter": {
    "hash": "df3017dee9db3bd863778624db07b417f16e9b9edb7134a2aae625b280bf7fd0"
   }
  }
 },
 "nbformat": 4,
 "nbformat_minor": 2
}
