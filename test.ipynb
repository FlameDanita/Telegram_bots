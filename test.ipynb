{
  "cells": [
    {
      "cell_type": "code",
      "execution_count": 1,
      "metadata": {
        "id": "3xLcKYbpV5Du",
        "outputId": "1b388209-7624-4609-a619-70ff62a29870",
        "colab": {
          "base_uri": "https://localhost:8080/",
          "height": 333
        }
      },
      "outputs": [
        {
          "output_type": "error",
          "ename": "ModuleNotFoundError",
          "evalue": "ignored",
          "traceback": [
            "\u001b[0;31m---------------------------------------------------------------------------\u001b[0m",
            "\u001b[0;31mModuleNotFoundError\u001b[0m                       Traceback (most recent call last)",
            "\u001b[0;32m<ipython-input-1-2a38862b1571>\u001b[0m in \u001b[0;36m<module>\u001b[0;34m\u001b[0m\n\u001b[0;32m----> 1\u001b[0;31m \u001b[0;32mimport\u001b[0m \u001b[0mTg_bot_Esika\u001b[0m \u001b[0;32mas\u001b[0m \u001b[0mEsika\u001b[0m\u001b[0;34m\u001b[0m\u001b[0;34m\u001b[0m\u001b[0m\n\u001b[0m\u001b[1;32m      2\u001b[0m \u001b[0mEsika\u001b[0m\u001b[0;34m.\u001b[0m\u001b[0mfobos_pc\u001b[0m\u001b[0;34m(\u001b[0m\u001b[0;34m)\u001b[0m\u001b[0;34m\u001b[0m\u001b[0;34m\u001b[0m\u001b[0m\n",
            "\u001b[0;31mModuleNotFoundError\u001b[0m: No module named 'Tg_bot_Esika'",
            "",
            "\u001b[0;31m---------------------------------------------------------------------------\u001b[0;32m\nNOTE: If your import is failing due to a missing package, you can\nmanually install dependencies using either !pip or !apt.\n\nTo view examples of installing some common dependencies, click the\n\"Open Examples\" button below.\n\u001b[0;31m---------------------------------------------------------------------------\u001b[0m\n"
          ],
          "errorDetails": {
            "actions": [
              {
                "action": "open_url",
                "actionText": "Open Examples",
                "url": "/notebooks/snippets/importing_libraries.ipynb"
              }
            ]
          }
        }
      ],
      "source": [
        "import Tg_bot_Esika as Esika\n",
        "Esika.fobos_pc()\n",
        "print('colaboratory!')"
      ]
    },
    {
      "cell_type": "code",
      "execution_count": null,
      "metadata": {
        "id": "6kpYpw-qV5D4",
        "outputId": "c30cb53a-fb6b-458d-d034-a4238ada182b"
      },
      "outputs": [
        {
          "name": "stderr",
          "output_type": "stream",
          "text": [
            "2022-06-23 00:03:04,121 (__init__.py:579 MainThread) ERROR - TeleBot: \"Infinity polling: polling exited\"\n",
            "2022-06-23 00:03:04,122 (__init__.py:581 MainThread) ERROR - TeleBot: \"Break infinity polling\"\n"
          ]
        }
      ],
      "source": [
        "import Tg_bot_Esika as Esika\n",
        "Esika.fobos_laptop()"
      ]
    },
    {
      "cell_type": "code",
      "execution_count": null,
      "metadata": {
        "id": "0JBlZHiRV5D5",
        "outputId": "8ecd61f0-f813-49ca-e880-aeb3d796de3b"
      },
      "outputs": [
        {
          "name": "stderr",
          "output_type": "stream",
          "text": [
            "2022-06-23 00:03:14,338 (__init__.py:579 MainThread) ERROR - TeleBot: \"Infinity polling: polling exited\"\n",
            "2022-06-23 00:03:14,339 (__init__.py:581 MainThread) ERROR - TeleBot: \"Break infinity polling\"\n"
          ]
        }
      ],
      "source": [
        "import Tg_bot_Esika as Esika\n",
        "Esika.fobos_laptop()"
      ]
    },
    {
      "cell_type": "code",
      "execution_count": null,
      "metadata": {
        "id": "3zx9V--4V5D7"
      },
      "outputs": [],
      "source": []
    }
  ],
  "metadata": {
    "kernelspec": {
      "display_name": "Python 3.10.5 64-bit",
      "language": "python",
      "name": "python3"
    },
    "language_info": {
      "codemirror_mode": {
        "name": "ipython",
        "version": 3
      },
      "file_extension": ".py",
      "mimetype": "text/x-python",
      "name": "python",
      "nbconvert_exporter": "python",
      "pygments_lexer": "ipython3",
      "version": "3.10.5"
    },
    "orig_nbformat": 4,
    "vscode": {
      "interpreter": {
        "hash": "df3017dee9db3bd863778624db07b417f16e9b9edb7134a2aae625b280bf7fd0"
      }
    },
    "colab": {
      "provenance": []
    }
  },
  "nbformat": 4,
  "nbformat_minor": 0
}