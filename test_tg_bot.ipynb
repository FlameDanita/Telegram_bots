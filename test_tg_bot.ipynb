{
 "cells": [
  {
   "cell_type": "code",
   "execution_count": 1,
   "metadata": {},
   "outputs": [
    {
     "ename": "KeyboardInterrupt",
     "evalue": "",
     "output_type": "error",
     "traceback": [
      "\u001b[1;31m---------------------------------------------------------------------------\u001b[0m",
      "\u001b[1;31mKeyboardInterrupt\u001b[0m                         Traceback (most recent call last)",
      "\u001b[1;32mc:\\Users\\i_Ber\\OneDrive\\Documents\\GitHub\\TradeBot\\test_tg_bot.ipynb Cell 1'\u001b[0m in \u001b[0;36m<cell line: 57>\u001b[1;34m()\u001b[0m\n\u001b[0;32m     <a href='vscode-notebook-cell:/c%3A/Users/i_Ber/OneDrive/Documents/GitHub/TradeBot/test_tg_bot.ipynb#ch0000000?line=58'>59</a>\u001b[0m \u001b[39mwhile\u001b[39;00m \u001b[39mTrue\u001b[39;00m:\n\u001b[0;32m     <a href='vscode-notebook-cell:/c%3A/Users/i_Ber/OneDrive/Documents/GitHub/TradeBot/test_tg_bot.ipynb#ch0000000?line=59'>60</a>\u001b[0m     schedule\u001b[39m.\u001b[39mrun_pending()\n\u001b[1;32m---> <a href='vscode-notebook-cell:/c%3A/Users/i_Ber/OneDrive/Documents/GitHub/TradeBot/test_tg_bot.ipynb#ch0000000?line=60'>61</a>\u001b[0m     time\u001b[39m.\u001b[39;49msleep(\u001b[39m1\u001b[39;49m)\n",
      "\u001b[1;31mKeyboardInterrupt\u001b[0m: "
     ]
    }
   ],
   "source": [
    "import telebot #pip install pyTelegramBotAPI\n",
    "import API\n",
    "import time, threading, schedule\n",
    "\n",
    "token = API.get_tg_TOKEN()\n",
    "bot = telebot.TeleBot(token, parse_mode=None) # You can set parse_mode by default. HTML or MARKDOWN\n",
    "\n",
    "#bot.get_sticker_set(\"Дарья (@TgSticker)\")\n",
    "\n",
    "@bot.message_handler(content_types=[\"sticker\"])\n",
    "def send_sticker(message):\n",
    "    # Получим ID Стикера\n",
    "    sticker_id = message.sticker.file_id\n",
    "\n",
    "def start_executor(message):\n",
    "    bot.send_message(message.chat.id, 'Hello!')\n",
    "\n",
    "bot.register_message_handler(start_executor, commands=['started']) # Start command executor\n",
    "\n",
    "@bot.message_handler(commands=['check'])\n",
    "def on_ping(message):\n",
    "    bot.reply_to(message, \"Still alive and kicking!\")\n",
    "\n",
    "@bot.message_handler(commands=['set'])\n",
    "def set_timer(message):\n",
    "    args = message.text.split()\n",
    "    if len(args) > 1 and args[1].isdigit():\n",
    "        sec = int(args[1])\n",
    "        schedule.every(sec).seconds.do(beep, message.chat.id).tag(message.chat.id)\n",
    "    else:\n",
    "        bot.reply_to(message, 'Usage: /set <seconds>')\n",
    "\n",
    "@bot.message_handler(commands=['unset'])\n",
    "def unset_timer(message):\n",
    "    schedule.clear(message.chat.id)\n",
    "\n",
    "@bot.message_handler(commands=['start'])\n",
    "def send_welcome(message):\n",
    "\tbot.reply_to(message, \"Привет, добро пожаловать!)\\n\" +\n",
    "                          \"Набери /help и узнаешь доступные команды <3\")\n",
    "\n",
    "@bot.message_handler(func=lambda m: True)\n",
    "def echo_all(message):\n",
    "\tbot.reply_to(message, \"Не знаю таких команд, чел :/\")\n",
    "\n",
    "#@bot.send_message('test')\n",
    "#def send_ky():\n",
    "#\tbot.send_message(\"DanitaVSK\", 'test')\n",
    "\n",
    "def listener(messages):\n",
    "    for m in messages:\n",
    "        print(str(m))\n",
    "\n",
    "def beep(chat_id) -> None:\n",
    "    bot.send_message(chat_id, text='Beep, bro :3')\n",
    "\n",
    "if __name__ == '__main__':\n",
    "    threading.Thread(target=bot.infinity_polling, name='bot_infinity_polling', daemon=True).start()\n",
    "    while True:\n",
    "        schedule.run_pending()\n",
    "        time.sleep(1)\n",
    "\n",
    "#bot.set_update_listener(listener)\n",
    "#bot.infinity_polling()"
   ]
  },
  {
   "cell_type": "code",
   "execution_count": 2,
   "metadata": {},
   "outputs": [],
   "source": [
    "bot.stop_polling()"
   ]
  },
  {
   "cell_type": "code",
   "execution_count": 1,
   "metadata": {},
   "outputs": [],
   "source": [
    "import Tg_bot_Esika as Esika"
   ]
  },
  {
   "cell_type": "code",
   "execution_count": 2,
   "metadata": {},
   "outputs": [
    {
     "name": "stderr",
     "output_type": "stream",
     "text": [
      "2022-06-15 19:15:27,864 (__init__.py:579 MainThread) ERROR - TeleBot: \"Infinity polling: polling exited\"\n",
      "2022-06-15 19:15:27,865 (__init__.py:581 MainThread) ERROR - TeleBot: \"Break infinity polling\"\n"
     ]
    }
   ],
   "source": [
    "Esika.start_bot()"
   ]
  },
  {
   "cell_type": "code",
   "execution_count": 3,
   "metadata": {},
   "outputs": [],
   "source": [
    "Esika.stop_bot()"
   ]
  },
  {
   "cell_type": "code",
   "execution_count": null,
   "metadata": {},
   "outputs": [],
   "source": []
  }
 ],
 "metadata": {
  "kernelspec": {
   "display_name": "Python 3.10.5 64-bit",
   "language": "python",
   "name": "python3"
  },
  "language_info": {
   "codemirror_mode": {
    "name": "ipython",
    "version": 3
   },
   "file_extension": ".py",
   "mimetype": "text/x-python",
   "name": "python",
   "nbconvert_exporter": "python",
   "pygments_lexer": "ipython3",
   "version": "3.10.5"
  },
  "orig_nbformat": 4,
  "vscode": {
   "interpreter": {
    "hash": "df3017dee9db3bd863778624db07b417f16e9b9edb7134a2aae625b280bf7fd0"
   }
  }
 },
 "nbformat": 4,
 "nbformat_minor": 2
}
