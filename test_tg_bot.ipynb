{
 "cells": [
  {
   "cell_type": "code",
   "execution_count": 12,
   "metadata": {},
   "outputs": [
    {
     "name": "stderr",
     "output_type": "stream",
     "text": [
      "2023-09-07 15:07:22,412 (__init__.py:966 MainThread) ERROR - TeleBot: \"Infinity polling: polling exited\"\n",
      "2023-09-07 15:07:22,414 (__init__.py:968 MainThread) ERROR - TeleBot: \"Break infinity polling\"\n"
     ]
    }
   ],
   "source": [
    "import telebot #pip install pyTelegramBotAPI\n",
    "import API\n",
    "import time, threading, schedule\n",
    "import emoji\n",
    "chat_ids = {\"Danita\" : 692791213,\n",
    "            \"FlameDarya\" : 539280636,\n",
    "            \"Fobos\" : 809542339} \n",
    "sticker_ids = {\"Хитрая_Миён\" : \"CAACAgIAAxkBAAEFFjBisMOr40zNs3hZ57qW8ySateZbuwAC0RUAAhl7sUiGNg3U3z0OIygE\",\n",
    "               \"Привет_Ариша\" : \"CAACAgIAAxkBAAEFFjJisMSiGLk0SwZGM6C4QE_LSMVk_wACYSQAAp7OCwABKLgYIbi2x0ooBA\"}\n",
    "\n",
    "\n",
    "token = API.get_tg_TOKEN()\n",
    "bot = telebot.TeleBot(token, parse_mode=None) # You can set parse_mode by default. HTML or MARKDOWN\n",
    "bot.send_message(chat_ids['Danita'], emoji.emojize('Эсика активированна, приветствую, дорогой друг :smirk::heartbeat:', language='alias'))\n",
    "bot.send_sticker(chat_ids['Danita'], sticker_ids['Хитрая_Миён'])\n",
    "bot.send_message(chat_ids['Danita'], emoji.emojize('Пропиши /help и узнай что я умею', language='alias'))\n",
    "# bot.send_message(chat_ids['Danita'], emoji.emojize('FobosPC complited :white_check_mark:', language='alias'))\n",
    "# bot.send_message(chat_ids['Fobos'], emoji.emojize('FobosPC complited :white_check_mark:', language='alias'))\n",
    "#bot.send_sticker(chat_ids['FlameDarya'], sticker_ids['Хитрая_Миён'])\n",
    "\n",
    "@bot.message_handler(commands=['start'])\n",
    "def send_welcome(message):\n",
    "    if message.chat.id in chat_ids.values():\n",
    "        for key, value in chat_ids.items():\n",
    "            if message.chat.id == value:\n",
    "                bot.send_sticker(message.chat.id, sticker_ids['Привет_Ариша'])\n",
    "                bot.reply_to(message, emoji.emojize(\"Привет, добро пожаловать, \" + key + \"!)\\n\"\n",
    "                          \"Набери /help и узнаешь доступные команды :relieved:\", language='alias'))\n",
    "    else:\n",
    "        bot.reply_to(message, emoji.emojize(\"Привет, добро пожаловать, мы ещё не знакомы, так что напиши Danita'е и он добавит тебя в список доверенных лиц!)\\n\" +\n",
    "                          \"Набери /help и узнаешь доступные команды :relieved:\", language='alias'))\n",
    "        print(message.chat.id)\n",
    "\n",
    "@bot.message_handler(commands=['help'])\n",
    "def helper(message):\n",
    "\tbot.reply_to(message, \"Что я умею:\\n\" +\n",
    "                          \"/pomidorka - таймер для учебы,\\n\" + \n",
    "                          \"pass\")\n",
    "\n",
    "global pomidorka_flag, pomidorka_count\n",
    "pomidorka_flag = False\n",
    "pomidorka_count = 0\n",
    "\n",
    "@bot.message_handler(commands=['pomidorka', 'rest', 'pause', 'stop', 'time'])\n",
    "def pomidorka(message):\n",
    "    if message.text == \"/pomidorka\":\n",
    "        if not pomidorka_flag:\n",
    "            bot.send_message(message.chat.id, text='Помидорковый таймер предназначен для эфективного использование времени в переоды обучения и/или отдыха. '+\n",
    "                                                   'Одна помидорка = 25 минут работы, после неё у тебя будет 5 минут отдыха. ' + \n",
    "                                                   'Набрав 16 помидорок за день ты можешь с уверенностью сказать, что потратил этот день не зря! Активные команды: \\n' + \n",
    "                                                   '/rest - досрочное завершение помидорки/отдыха\\n' + \n",
    "                                                   '/time - оставшееся время помидорки\\n'\n",
    "                                                   '/pause - преостановление таймера\\n' +\n",
    "                                                   '/stop - остановка таймера')\n",
    "            #pomidorka_flag = True\n",
    "            bot.send_message(message.chat.id, text='3..2..1..Твоя первая помидорка начинается прямо сейчас!')\n",
    "            #pomidorka_activated()\n",
    "        else:\n",
    "            bot.send_message(message.chat.id, text='На твоём счету сейчас ' + pomidorka_count + emoji.emojize(':tomato:', language='alias') + ' помидорок\\n' +\n",
    "                                                   'Активные команды: \\n' + \n",
    "                                                   '/rest - досрочное завершение помидорки/отдыха\\n' + \n",
    "                                                   '/time - оставшееся время помидорки\\n'\n",
    "                                                   '/pause - преостановление таймера\\n' +\n",
    "                                                   '/stop - остановка таймера')\n",
    "    elif message.text == \"/rest\":\n",
    "        pass\n",
    "    elif message.text == \"/pause\":\n",
    "        pass\n",
    "    elif message.text == \"/stop\":\n",
    "        pass\n",
    "    else:\n",
    "        pass\n",
    "    return pomidorka_flag, pomidorka_count\n",
    "\n",
    "@bot.message_handler(commands=['set'])\n",
    "def set_timer(message):\n",
    "    args = message.text.split()\n",
    "    if len(args) > 1 and args[1].isdigit():\n",
    "        sec = int(args[1])\n",
    "        schedule.every(sec).seconds.do(beep, message.chat.id).tag(message.chat.id)\n",
    "    else:\n",
    "        bot.reply_to(message, 'Usage: /set <seconds>')\n",
    "\n",
    "@bot.message_handler(commands=['unset'])\n",
    "def unset_timer(message):\n",
    "    schedule.clear(message.chat.id)\n",
    "\n",
    "def beep(chat_id) -> None:\n",
    "    bot.send_message(chat_id, text='Beep, bro :3')\n",
    "\n",
    "@bot.message_handler(commands=['off'])\n",
    "def stop_command(message):\n",
    "    bot.reply_to(message, 'Выключаюсь...')\n",
    "    bot.stop_polling()\n",
    "\n",
    "@bot.message_handler(func=lambda m: True)\n",
    "def echo_all(message):\n",
    "\tbot.reply_to(message, \"Не знаю таких команд, чел :/\")\n",
    "\n",
    "# if flag:\n",
    "#     bot.infinity_polling(interval=1)\n",
    "\n",
    "#if __name__ == '__main__':\n",
    "#    threading.Thread(target=bot.infinity_polling, name='bot_infinity_polling', daemon=True).start()\n",
    "#    while True:\n",
    "#        schedule.run_pending()\n",
    "#        time.sleep(1)\n",
    "\n",
    "#bot.set_update_listener(listener)\n",
    "bot.infinity_polling()"
   ]
  },
  {
   "cell_type": "code",
   "execution_count": 5,
   "metadata": {},
   "outputs": [],
   "source": [
    "bot.stop_polling()"
   ]
  },
  {
   "cell_type": "code",
   "execution_count": 13,
   "metadata": {},
   "outputs": [],
   "source": [
    "import Tg_bot_Esika as Esika\n",
    "\n",
    "Esika.calculate_complite_bot()"
   ]
  },
  {
   "cell_type": "code",
   "execution_count": 14,
   "metadata": {},
   "outputs": [
    {
     "name": "stderr",
     "output_type": "stream",
     "text": [
      "2023-09-07 15:10:26,728 (__init__.py:966 MainThread) ERROR - TeleBot: \"Infinity polling: polling exited\"\n",
      "2023-09-07 15:10:26,730 (__init__.py:968 MainThread) ERROR - TeleBot: \"Break infinity polling\"\n"
     ]
    }
   ],
   "source": [
    "Esika.calculate_complite_bot()"
   ]
  },
  {
   "cell_type": "code",
   "execution_count": null,
   "metadata": {},
   "outputs": [],
   "source": [
    "Esika.stop_bot()"
   ]
  },
  {
   "cell_type": "code",
   "execution_count": 11,
   "metadata": {},
   "outputs": [
    {
     "name": "stdout",
     "output_type": "stream",
     "text": [
      "2\n"
     ]
    }
   ],
   "source": [
    "#global b\n",
    "b = 1\n",
    "def a_():\n",
    "    a = b\n",
    "    a += 1\n",
    "    #b += 1\n",
    "    print(a)\n",
    "a_()\n",
    "#print(a)"
   ]
  },
  {
   "cell_type": "code",
   "execution_count": null,
   "metadata": {},
   "outputs": [],
   "source": []
  }
 ],
 "metadata": {
  "kernelspec": {
   "display_name": "Python 3.10.5 64-bit",
   "language": "python",
   "name": "python3"
  },
  "language_info": {
   "codemirror_mode": {
    "name": "ipython",
    "version": 3
   },
   "file_extension": ".py",
   "mimetype": "text/x-python",
   "name": "python",
   "nbconvert_exporter": "python",
   "pygments_lexer": "ipython3",
   "version": "3.11.2"
  },
  "orig_nbformat": 4,
  "vscode": {
   "interpreter": {
    "hash": "df3017dee9db3bd863778624db07b417f16e9b9edb7134a2aae625b280bf7fd0"
   }
  }
 },
 "nbformat": 4,
 "nbformat_minor": 2
}
